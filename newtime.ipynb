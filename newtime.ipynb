{
 "cells": [
  {
   "cell_type": "code",
   "execution_count": 1,
   "metadata": {},
   "outputs": [
    {
     "name": "stdout",
     "output_type": "stream",
     "text": [
      "Times Table for 1:\n",
      "1 x 1 = 1\n",
      "1 x 2 = 2\n",
      "1 x 3 = 3\n",
      "1 x 4 = 4\n",
      "1 x 5 = 5\n",
      "1 x 6 = 6\n",
      "1 x 7 = 7\n",
      "1 x 8 = 8\n",
      "1 x 9 = 9\n",
      "1 x 10 = 10\n",
      "1 x 11 = 11\n",
      "1 x 12 = 12\n",
      "\n"
     ]
    }
   ],
   "source": [
    "def print_times_table(table):\n",
    "    \"\"\"\n",
    "    Prints the times table for the given number from 1 to 12.\n",
    "    \"\"\"\n",
    "    print(f\"Times Table for {table}:\")\n",
    "    for i in range(1, 13):\n",
    "        print(f\"{table} x {i} = {table * i}\")\n",
    "\n",
    "def print_all_times_tables(up_to_table):\n",
    "    \"\"\"\n",
    "    Prints all the times tables up to the given number.\n",
    "    \"\"\"\n",
    "    for table in range(1, up_to_table + 1):\n",
    "        print_times_table(table)\n",
    "        print()  # Empty line for better readability\n",
    "\n",
    "def main():\n",
    "    table = int(input(\"Enter the times table you want to display: \"))\n",
    "    print_all_times_tables(table)\n",
    "\n",
    "if __name__ == \"__main__\":\n",
    "    main()"
   ]
  }
 ],
 "metadata": {
  "kernelspec": {
   "display_name": "base",
   "language": "python",
   "name": "python3"
  },
  "language_info": {
   "codemirror_mode": {
    "name": "ipython",
    "version": 3
   },
   "file_extension": ".py",
   "mimetype": "text/x-python",
   "name": "python",
   "nbconvert_exporter": "python",
   "pygments_lexer": "ipython3",
   "version": "3.11.5"
  }
 },
 "nbformat": 4,
 "nbformat_minor": 2
}
